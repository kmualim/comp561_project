{
  "nbformat": 4,
  "nbformat_minor": 0,
  "metadata": {
    "colab": {
      "name": "geneexpr.ipynb",
      "version": "0.3.2",
      "provenance": [],
      "collapsed_sections": []
    },
    "kernelspec": {
      "name": "python3",
      "display_name": "Python 3"
    },
    "accelerator": "GPU"
  },
  "cells": [
    {
      "metadata": {
        "id": "2S2CdANxyPZo",
        "colab_type": "code",
        "outputId": "d3873761-9366-49e6-ee64-1ac6e75adf71",
        "colab": {
          "base_uri": "https://localhost:8080/",
          "height": 122
        }
      },
      "cell_type": "code",
      "source": [
        "import numpy as np\n",
        "import pandas as pd \n",
        "import os \n",
        "import time\n",
        "import matplotlib.pyplot as plt\n",
        "\n",
        "from sklearn.model_selection import train_test_split\n",
        "from sklearn.model_selection import RepeatedKFold \n",
        "from sklearn import svm, metrics, linear_model\n",
        "from sklearn.naive_bayes import GaussianNB\n",
        "\n",
        "from google.colab import drive\n",
        "drive.mount('/content/gdrive', )"
      ],
      "execution_count": 0,
      "outputs": [
        {
          "output_type": "stream",
          "text": [
            "Go to this URL in a browser: https://accounts.google.com/o/oauth2/auth?client_id=947318989803-6bn6qk8qdgf4n4g3pfee6491hc0brc4i.apps.googleusercontent.com&redirect_uri=urn%3Aietf%3Awg%3Aoauth%3A2.0%3Aoob&scope=email%20https%3A%2F%2Fwww.googleapis.com%2Fauth%2Fdocs.test%20https%3A%2F%2Fwww.googleapis.com%2Fauth%2Fdrive%20https%3A%2F%2Fwww.googleapis.com%2Fauth%2Fdrive.photos.readonly%20https%3A%2F%2Fwww.googleapis.com%2Fauth%2Fpeopleapi.readonly&response_type=code\n",
            "\n",
            "Enter your authorization code:\n",
            "··········\n",
            "Mounted at /content/gdrive\n"
          ],
          "name": "stdout"
        }
      ]
    },
    {
      "metadata": {
        "id": "RbXBY1af-0Y9",
        "colab_type": "code",
        "outputId": "d04c7f92-0db3-42e7-9a9e-3e7c529da51e",
        "colab": {
          "base_uri": "https://localhost:8080/",
          "height": 34
        }
      },
      "cell_type": "code",
      "source": [
        "from keras.layers import Input, Dense \n",
        "from keras.models import Model "
      ],
      "execution_count": 0,
      "outputs": [
        {
          "output_type": "stream",
          "text": [
            "Using TensorFlow backend.\n"
          ],
          "name": "stderr"
        }
      ]
    },
    {
      "metadata": {
        "id": "KE3tRw4Sl6oi",
        "colab_type": "text"
      },
      "cell_type": "markdown",
      "source": [
        "## I. Baselines and data processing"
      ]
    },
    {
      "metadata": {
        "id": "CHvRXC_RitXA",
        "colab_type": "text"
      },
      "cell_type": "markdown",
      "source": [
        ""
      ]
    },
    {
      "metadata": {
        "id": "pqI_4It8g2n5",
        "colab_type": "code",
        "colab": {}
      },
      "cell_type": "code",
      "source": [
        "G_x = open('gdrive/My Drive/data/bgedv2_X_tr_float64.npy', 'rb')\n",
        "G_y = open('gdrive/My Drive/data/bgedv2_Y_tr_0-4760_float64.npy', 'rb')\n",
        "G_x = np.load(G_x, encoding='latin1')\n",
        "G_y = np.load(G_y, encoding='latin1')"
      ],
      "execution_count": 0,
      "outputs": []
    },
    {
      "metadata": {
        "id": "hrA42RbKz-pu",
        "colab_type": "text"
      },
      "cell_type": "markdown",
      "source": [
        "## So what is going on in these tables?\n",
        "### X matrix\n",
        "* G_x: 88 807 expression profiles reporting the expression of 943 **landmark genes**\n",
        "* We do not need to change this to bring the problem down to one target gene, this is simply the features our model is going to use!\n",
        "* We'll have 88 807 values for target gene expressions, representing the expression of T1 for each of these profiles.\n"
      ]
    },
    {
      "metadata": {
        "id": "smIhao2qQFWu",
        "colab_type": "code",
        "outputId": "b63b672a-d329-41c7-d714-3e2acd570429",
        "colab": {
          "base_uri": "https://localhost:8080/",
          "height": 102
        }
      },
      "cell_type": "code",
      "source": [
        "'''\n",
        "Variance of G_x\n",
        "\n",
        "Here we have 88 807 profiles based on 943 landmark genes.\n",
        "Each row is an example of a sequence of landmark expression\n",
        "'''\n",
        "print(G_x.shape)\n",
        "print(\"Target expression values:\\n\\tMedian: {}\\n\\tMean: {}\\n\\tVariance: {}\".format(np.median(G_x),\n",
        "                                                                                    np.mean(G_x),\n",
        "                                                                                   np.var(G_x)))                                                                         "
      ],
      "execution_count": 0,
      "outputs": [
        {
          "output_type": "stream",
          "text": [
            "(88807, 943)\n",
            "Target expression values:\n",
            "\tMedian: -0.0416791179344651\n",
            "\tMean: 0.00027861079062735443\n",
            "\tVariance: 0.9979830159508396\n"
          ],
          "name": "stdout"
        }
      ]
    },
    {
      "metadata": {
        "id": "h4hmJnbD0tT0",
        "colab_type": "text"
      },
      "cell_type": "markdown",
      "source": [
        "### Y vector\n",
        "* G_y is a 88 807 columns by 4760 rows matrix\n",
        "* Each individual tile is one expression value for one of the target genes, corresponding to one of the landmark profiles from the X variable\n",
        "\n",
        "* What we want to extract is **column 1**:\n",
        "  * column 1 is 88 807 samples of the expression value of target gene 1\n",
        "  * each row is the expression value of the target gene for the corresponding profile described in X\n"
      ]
    },
    {
      "metadata": {
        "id": "bhpDqyPHmQz3",
        "colab_type": "code",
        "outputId": "c14cf738-3898-415c-9734-de8a2db9aab6",
        "colab": {
          "base_uri": "https://localhost:8080/",
          "height": 85
        }
      },
      "cell_type": "code",
      "source": [
        "'''This holds 88 807 expression profiles for our T1 gene\n",
        "\n",
        "In other word, each row the expression of gene T1 for one 88807 combinations\n",
        "we have in the X vector. the \"Price of my house\"\n",
        "'''\n",
        "\n",
        "print(G_y.shape)\n",
        "print(type(G_y))\n",
        "\n",
        "\n",
        "#Here we have the expression of 4760 target genes for each of the 88807 profiles\n",
        "#    - Each column is the expression value for one of the 4760 target genes\n",
        "#    - Each row corresponds to one of the expression profile described in X\n",
        "\n",
        "T1_y = G_y[:30000,0]\n",
        "print(T1_y.shape)\n",
        "#print(\"Target expression values:\\n\\tMedian: {}\\n\\tMean: {}\\n\\tVariance: {}\".format(np.median(T1_y),\n",
        "                                                                                  #np.mean(T1_y),\n",
        "                                                                                  #np.var(T1_y)))\n",
        "    \n",
        "G_x_new = G_x[:30000,:]\n",
        "T1_y = G_y[:30000,0]\n",
        "print(T1_y.shape)"
      ],
      "execution_count": 0,
      "outputs": [
        {
          "output_type": "stream",
          "text": [
            "(88807, 4760)\n",
            "<class 'numpy.ndarray'>\n",
            "(30000,)\n",
            "(30000,)\n"
          ],
          "name": "stdout"
        }
      ]
    },
    {
      "metadata": {
        "id": "sv1YO_dV2-yT",
        "colab_type": "text"
      },
      "cell_type": "markdown",
      "source": [
        "So in conclusion\n",
        "* G_x: 8807 x 943, that is 88k samples, each with 943 features\n",
        "* T1_y: 8807 x 1, 88807 expression values of T1, one for each sample\n",
        "\n",
        "We can now throw all the usual classifiers at this and hope for the best! :) :) "
      ]
    },
    {
      "metadata": {
        "id": "N3PfcbCIiH-D",
        "colab_type": "code",
        "colab": {}
      },
      "cell_type": "code",
      "source": [
        "# splitting the samples into 80:10:10 \n",
        "G_x_train, x_left, G_y_train, y_left = train_test_split(G_x_new, T1_y, test_size=0.2, random_state=42)\n",
        "G_x_valid, G_x_test, G_y_valid, G_y_test = train_test_split(x_left, y_left, test_size=0.5, random_state=42)\n"
      ],
      "execution_count": 0,
      "outputs": []
    },
    {
      "metadata": {
        "id": "jCpIAJGTLiBW",
        "colab_type": "text"
      },
      "cell_type": "markdown",
      "source": [
        "# Feature Selection  - PCA\n"
      ]
    },
    {
      "metadata": {
        "id": "s4N9Hh6ULnq8",
        "colab_type": "code",
        "outputId": "8efb91b0-4791-4b16-9049-e52984c1ed43",
        "colab": {
          "base_uri": "https://localhost:8080/",
          "height": 51
        }
      },
      "cell_type": "code",
      "source": [
        "from sklearn.preprocessing import StandardScaler \n",
        "\n",
        "\n",
        "\n",
        "'''\n",
        "Normalizing the datas set, applying PCA\n",
        "'''\n",
        "\n",
        "scaler = StandardScaler() \n",
        "scaler.fit(G_x_train)\n",
        "\n",
        "G_x_train1 = scaler.transform(G_x_train)\n",
        "G_x_valid1 = scaler.transform(G_x_valid)\n",
        "G_x_test1 = scaler.transform(G_x_test)\n",
        "\n",
        "\n",
        "# fitting PCA on training set only \n",
        "from sklearn.decomposition import PCA\n",
        "pca = PCA(0.95)\n",
        "pca.fit(G_x_train1)\n",
        "pca.n_components_\n",
        "\n",
        "train = pca.transform(G_x_train1)\n",
        "valid = pca.transform(G_x_valid1)\n",
        "test = pca.transform(G_x_test1)\n",
        "np.save(\"train_pca.npy\", train)\n",
        "np.save(\"valid_pca.npy\", valid)\n",
        "np.save(\"test_pca.npy\", test)\n",
        "#print (\"train Shape: {}\".format(train.shape))\n",
        "#print (\"valid Shape: {}\".format(valid.shape))\n",
        "#print (\"test Shape: {}\".format(test.shape))\n",
        "\n",
        "print(G_y_train.shape)\n",
        "print(G_y_valid.shape)"
      ],
      "execution_count": 0,
      "outputs": [
        {
          "output_type": "stream",
          "text": [
            "(24000,)\n",
            "(3000,)\n"
          ],
          "name": "stdout"
        }
      ]
    },
    {
      "metadata": {
        "id": "kkQtT0bX_Cqz",
        "colab_type": "code",
        "colab": {}
      },
      "cell_type": "code",
      "source": [
        ""
      ],
      "execution_count": 0,
      "outputs": []
    },
    {
      "metadata": {
        "id": "fk4ie3dhQMKU",
        "colab_type": "code",
        "outputId": "9dd76c39-6496-4a93-8f68-8a923ecde042",
        "colab": {
          "base_uri": "https://localhost:8080/",
          "height": 88
        }
      },
      "cell_type": "code",
      "source": [
        "from sklearn.svm import SVC\n",
        "import matplotlib.pyplot as plt \n",
        "\n",
        "'''\n",
        "SVM Baseline, MAE reporting\n",
        "'''\n",
        "\n",
        "Penalty = np.linspace(0.1,1,10)\n",
        "# SVM \n",
        "def SVM(x_train, y_train, x_test, G_y_valid):\n",
        "    predicted_svm = []\n",
        "    expected = G_y_valid\n",
        "    for i in Penalty: \n",
        "      print(\"C Value\", i)\n",
        "      sv = svm.SVR(C=i)\n",
        "      sv.fit(x_train,y_train)\n",
        "      predicted_svr = sv.predict(x_test)\n",
        "      MAE = metrics.mean_absolute_error(expected, predicted_svr)\n",
        "      print (\"Mean absolute error\",MAE)\n",
        "      predicted_svm.append(predicted_svr)\n",
        "      plt.plot(i,MAE,'o')\n",
        "    plt.xlabel(\"C value\")\n",
        "    plt.ylabel(\"Validation MAE\")\n",
        "    plt.title(\"C value v.s Validation MAE\")\n",
        "    plt.show()\n",
        "    return predicted_svm\n",
        " \n",
        "\n",
        "predicted_svm = SVM(train, G_y_train, test, G_y_test)\n",
        "#print (\"Mean absolute error\",(metrics.mean_absolute_error(expected, predicted_svm)))\n",
        "#print (\"MSE: {}\".format(metrics.mean_squared_error(expected, predicted_svm)))"
      ],
      "execution_count": 0,
      "outputs": [
        {
          "output_type": "stream",
          "text": [
            "C Value 0.1\n"
          ],
          "name": "stdout"
        },
        {
          "output_type": "stream",
          "text": [
            "/usr/local/lib/python3.6/dist-packages/sklearn/svm/base.py:196: FutureWarning: The default value of gamma will change from 'auto' to 'scale' in version 0.22 to account better for unscaled features. Set gamma explicitly to 'auto' or 'scale' to avoid this warning.\n",
            "  \"avoid this warning.\", FutureWarning)\n"
          ],
          "name": "stderr"
        }
      ]
    },
    {
      "metadata": {
        "id": "npDiaeixwikM",
        "colab_type": "code",
        "outputId": "e6573cd5-fe4d-43fc-c1be-5c3008446576",
        "colab": {
          "base_uri": "https://localhost:8080/",
          "height": 102
        }
      },
      "cell_type": "code",
      "source": [
        "'''\n",
        "Load and process the GTE dataset\n",
        "'''\n",
        "\n",
        "\n",
        "train = np.load(\"train_pca.npy\", encoding='latin1')\n",
        "valid = np.load(\"valid_pca.npy\", encoding='latin1')\n",
        "test = np.load(\"test_pca.npy\", encoding='latin1')\n",
        "GTE_x = open('gdrive/My Drive/data/GTEx_X_float64.npy', 'rb')\n",
        "GTE_y = open('gdrive/My Drive/data/GTEx_Y_0-4760_float64.npy', 'rb')\n",
        "g_x = open('gdrive/My Drive/data/1000G_X_float64.npy', 'rb')\n",
        "g_y = open('gdrive/My Drive/data/1000G_Y_0-4760_float64.npy', 'rb')\n",
        "\n",
        "GTE_x = np.load(GTE_x, encoding='latin1')\n",
        "GTE_y = np.load(GTE_y, encoding='latin1')\n",
        "g_x = np.load(g_x, encoding='latin1')\n",
        "g_y = np.load(g_y, encoding='latin1')\n",
        "\n",
        "GTE_x = pca.transform(GTE_x)\n",
        "g_x = pca.transform(g_x)\n",
        "\n",
        "print(GTE_x.shape)\n",
        "print(GTE_y.shape)\n",
        "print(g_y.shape)\n",
        "GTE_y_modified = GTE_y[:, 0]\n",
        "g_y_modified = g_y[:,0]\n",
        "print(GTE_y_modified)\n",
        "#print(g_y_modified)\n"
      ],
      "execution_count": 0,
      "outputs": [
        {
          "output_type": "stream",
          "text": [
            "(2921, 551)\n",
            "(2921, 4760)\n",
            "(462, 4760)\n",
            "[-1.97323759  0.7628531   2.40756655 ... -0.21071522 -0.67365168\n",
            " -1.35118736]\n"
          ],
          "name": "stdout"
        }
      ]
    },
    {
      "metadata": {
        "id": "TyAsUGP6_OQo",
        "colab_type": "text"
      },
      "cell_type": "markdown",
      "source": [
        "**Autoencoder Implementation**"
      ]
    },
    {
      "metadata": {
        "id": "M0vPnRje_7VW",
        "colab_type": "text"
      },
      "cell_type": "markdown",
      "source": [
        "Single-layer fully connected neural layer as encoder and decoder \n"
      ]
    },
    {
      "metadata": {
        "id": "lLLJFY9oEj8G",
        "colab_type": "code",
        "colab": {}
      },
      "cell_type": "code",
      "source": [
        "from keras import losses"
      ],
      "execution_count": 0,
      "outputs": []
    },
    {
      "metadata": {
        "id": "_L9ZZbE7_hnW",
        "colab_type": "code",
        "colab": {}
      },
      "cell_type": "code",
      "source": [
        "# AUTOENCODER MODEL ARCHITECTURE \n",
        "encoding_dim = 32 # encoding representation \n",
        "input_dim = Input(shape=(2921,))\n",
        "encoded = Dense(encoding_dim, activation='relu')(input_dim)\n",
        "decoded = Dense(2921, activation='sigmoid')(encoded)\n",
        "autoencoder = Model(input_dim, decoded)\n",
        "\n",
        "# separate encoder model \n",
        "encoder = Model(input_dim, encoded)\n",
        "encoder_input = Input(shape=(encoding_dim,))\n",
        "decoder_layer = autoencoder.layers[-1]\n",
        "decoder=Model(encoder_input, decoder_layer(encoder_input))\n",
        "autoencoder.compile(optimizer='adadelta', loss=losses.mean_absolute_error)\n"
      ],
      "execution_count": 0,
      "outputs": []
    },
    {
      "metadata": {
        "id": "gwaKCa4fEv3g",
        "colab_type": "code",
        "colab": {}
      },
      "cell_type": "code",
      "source": [
        "# AUTOENCODER \n",
        "autoencoder.fit(x_train, y_train, epochs=50, shuffle=True, validation_data=())"
      ],
      "execution_count": 0,
      "outputs": []
    },
    {
      "metadata": {
        "id": "Y8pqMZjfqkZI",
        "colab_type": "code",
        "colab": {}
      },
      "cell_type": "code",
      "source": [
        "\"svm baseline for GTEX\"\n",
        "\n",
        "def SVM(x_train, y_train, x_test, G_y_valid, g_x, g_y_modified):\n",
        "    #predicted_svm = []\n",
        "    expected = G_y_valid\n",
        "    print(\"Start\")\n",
        "    sv = svm.SVR(C=0.8)\n",
        "    sv.fit(x_train,y_train)\n",
        "    predicted_svr = sv.predict(x_test)\n",
        "    predicted_g = sv.predict(g_x)\n",
        "    MAE = metrics.mean_absolute_error(expected, predicted_svr)\n",
        "    MAE_g = metrics.mean_absolute_error(g_y_modified, predicted_g)\n",
        "    print (\"Mean absolute error\",MAE)\n",
        "    print(\"Mean absolute error for 1000G\", MAE_g)\n",
        "    \n",
        "    return predicted_svr, predicted_g\n",
        " \n",
        "predicted_svm_gte_x, predicted_g = SVM(train, G_y_train, GTE_x, GTE_y_modified, g_x, g_y_modified)\n"
      ],
      "execution_count": 0,
      "outputs": []
    },
    {
      "metadata": {
        "id": "voITAP0RHU6p",
        "colab_type": "code",
        "outputId": "10eea4ea-7716-423e-ad21-c99bcf8efe5e",
        "colab": {
          "base_uri": "https://localhost:8080/",
          "height": 51
        }
      },
      "cell_type": "code",
      "source": [
        "from sklearn.neighbors import KNeighborsRegressor\n",
        "# kNN \n",
        "#num_neighbours = np.linspace(1,20,)\n",
        "def kNN(x_train, y_train, x_test, G_y_valid, g_x, g_y_modified): \n",
        "  neigh = KNeighborsRegressor(n_neighbors = 8)\n",
        "  #neigh = MultiOutputRegressor(neigh)\n",
        "  neigh.fit(x_train, y_train)\n",
        "  predicted_knn = neigh.predict(x_test)\n",
        "  predict_g = neigh.predict(g_x)\n",
        "  MAE = metrics.mean_absolute_error(G_y_valid, predicted_knn)\n",
        "  MAE_g = metrics.mean_absolute_error(g_y_modified, predicted_g)\n",
        "  print (\"Mean absolute error\",MAE)\n",
        "  print(\"Mean absolute error for 1000G\", MAE_g)\n",
        "  return predicted_knn, predict_g\n",
        "\n",
        "expected = G_y_test\n",
        "#lab_enc = LabelEncoder()\n",
        "#y_encoded = G_y_train.astype('int')\n",
        "predicted_knn, predict_g = kNN(train, G_y_train, GTE_x, GTE_y_modified, g_x, g_y_modified )"
      ],
      "execution_count": 0,
      "outputs": [
        {
          "output_type": "stream",
          "text": [
            "Mean absolute error 0.45845887905989136\n",
            "Mean absolute error for 1000G 0.7562952892995377\n"
          ],
          "name": "stdout"
        }
      ]
    },
    {
      "metadata": {
        "id": "F5EpnAHE0MPL",
        "colab_type": "code",
        "outputId": "585853e2-72d5-4261-e548-701fcb43f6dd",
        "colab": {
          "base_uri": "https://localhost:8080/",
          "height": 34
        }
      },
      "cell_type": "code",
      "source": [
        "from sklearn.linear_model import LinearRegression\n",
        "# lin reg\n",
        "#num_neighbours = np.linspace(1,20,)\n",
        "def linreg(x_train, y_train, valid, y_valid): \n",
        "  linreg = LinearRegression().fit(x_train, y_train)\n",
        "  yval_hat = linreg.predict(valid)\n",
        "  #neigh = MultiOutputRegressor(neigh)\n",
        "  MAE = metrics.mean_absolute_error(y_valid, yval_hat)\n",
        "  print (\"Mean absolute error\",MAE)\n",
        "  return \n",
        "\n",
        "#lab_enc = LabelEncoder()\n",
        "#y_encoded = G_y_train.astype('int')\n",
        "linreg(train, G_y_train, valid, G_y_valid )"
      ],
      "execution_count": 0,
      "outputs": [
        {
          "output_type": "stream",
          "text": [
            "Mean absolute error 0.5009699280307488\n"
          ],
          "name": "stdout"
        }
      ]
    },
    {
      "metadata": {
        "id": "11pHJLt4LlpW",
        "colab_type": "code",
        "colab": {}
      },
      "cell_type": "code",
      "source": [
        "'''\n",
        "Selecting number of n_components to capture > 85 % of variance \n",
        "''' \n",
        "\n",
        "components = np.arange(1, 900,100) \n",
        "\n",
        "variance = [] \n",
        "for i in components:\n",
        "  w = p.fit_transform(G_x)\n",
        "  print(w.shape)\n",
        "  var = np.var(w)\n",
        "  variance.append(var)\n",
        "  print(\"Variance\", var)\n",
        "  np.save('new_pca_weights'+ str(i), w)\n",
        "  "
      ],
      "execution_count": 0,
      "outputs": []
    },
    {
      "metadata": {
        "id": "hJspKXAelqtw",
        "colab_type": "text"
      },
      "cell_type": "markdown",
      "source": [
        "\n",
        "\n",
        "## II. How do neural networks perform on this set?\n",
        "\n"
      ]
    },
    {
      "metadata": {
        "id": "wI1rGiktl44R",
        "colab_type": "code",
        "outputId": "be37ef21-2d61-46e6-c632-c11f6139f123",
        "colab": {
          "base_uri": "https://localhost:8080/",
          "height": 136
        }
      },
      "cell_type": "code",
      "source": [
        "import numpy\n",
        "import pandas\n",
        "from keras.models import Sequential\n",
        "from keras.layers import Dense\n",
        "from keras.wrappers.scikit_learn import KerasRegressor\n",
        "from sklearn.model_selection import cross_val_score\n",
        "from sklearn.model_selection import KFold\n",
        "from sklearn.preprocessing import StandardScaler\n",
        "from sklearn.pipeline import Pipeline\n",
        "\n",
        "\n",
        "'''\n",
        "1. Find out what my values are like to know what results I want\n",
        "2. Get this through a standard Keras FNN\n",
        "2.2 do it with standardized data\n",
        "3. Find out what graphs I want to output\n",
        "4. Once the model and the outputs are setup, findout how to get this on a GPU\n",
        "'''\n",
        "\n",
        "'''Data, output from PCA is:\n",
        "()train, G_y_train, test, G_y_test)\n",
        "\n",
        "Descriptive stats of output:\n",
        "'''\n",
        "\n",
        "print(\"Stats for G_y_train\")\n",
        "print(\"\\t Median: \" + str(np.median(G_y_train)))\n",
        "print(\"\\t Mean: \" + str(np.mean(G_y_train)))\n",
        "print(\"\\t Std deviation: \" + str(np.std(G_y_train)))\n",
        "print(\"\\t Max: \" + str(np.max(G_y_train)))\n",
        "print(\"\\t Min: \" + str(np.min(G_y_train)))\n",
        "\n"
      ],
      "execution_count": 0,
      "outputs": [
        {
          "output_type": "stream",
          "text": [
            "Using TensorFlow backend.\n"
          ],
          "name": "stderr"
        },
        {
          "output_type": "stream",
          "text": [
            "Stats for G_y_train\n",
            "\t Median: -0.022053643195674752\n",
            "\t Mean: -0.004272039367696599\n",
            "\t Std deviation: 0.9899283525371128\n",
            "\t Max: 12.365623537096194\n",
            "\t Min: -1.8378687634136737\n"
          ],
          "name": "stdout"
        }
      ]
    },
    {
      "metadata": {
        "id": "jYOszvO0tVQB",
        "colab_type": "code",
        "outputId": "9b68c98b-0d4f-4281-87a0-ebcc3b96f34e",
        "colab": {
          "base_uri": "https://localhost:8080/",
          "height": 34
        }
      },
      "cell_type": "code",
      "source": [
        "\n",
        "from keras import backend as K\n",
        "K.tensorflow_backend._get_available_gpus()"
      ],
      "execution_count": 0,
      "outputs": [
        {
          "output_type": "execute_result",
          "data": {
            "text/plain": [
              "['/job:localhost/replica:0/task:0/device:GPU:0']"
            ]
          },
          "metadata": {
            "tags": []
          },
          "execution_count": 8
        }
      ]
    },
    {
      "metadata": {
        "id": "iR8SZz3rF982",
        "colab_type": "code",
        "colab": {}
      },
      "cell_type": "code",
      "source": [
        "from sklearn import preprocessing\n"
      ],
      "execution_count": 0,
      "outputs": []
    },
    {
      "metadata": {
        "id": "IXi_VE3p6j5s",
        "colab_type": "code",
        "colab": {}
      },
      "cell_type": "code",
      "source": [
        "#We'll use mean absolute percentage error as our metric.\n",
        "#The values are too small to easily interprete MAE\n",
        "\n",
        "def MAPE (y_true, y_pred):\n",
        "  diff = np.abs(np.subtract(y_true, y_pred))\n",
        "  ratio = np.abs(np.divide(diff, y_true))\n",
        "  mean = np.mean(ratio)* 100\n",
        "  return np.mean(mean)"
      ],
      "execution_count": 0,
      "outputs": []
    },
    {
      "metadata": {
        "id": "4GXI1I6Nl3AV",
        "colab_type": "code",
        "colab": {}
      },
      "cell_type": "code",
      "source": [
        "# define base model\n",
        "def baseline_model():\n",
        "\t# create model\n",
        "\tmodel = Sequential()\n",
        "  \n",
        "  #TODO: check what these paramaeters are, and why the first one seems to\n",
        "  #Have to be len(X)\n",
        "\tmodel.add(Dense(10, input_dim=551, kernel_initializer='normal', activation='relu'))\n",
        "\tmodel.add(Dense(1, kernel_initializer='normal'))\n",
        "\t# Compile model\n",
        "\tmodel.compile(loss='mean_absolute_error', optimizer='adam')\n",
        "\treturn model\n",
        "\n",
        "\n",
        "# fix random seed for reproducibility\n",
        "# evaluate model with standardized dataset\n",
        "\n",
        "  \n",
        "estimator = KerasRegressor(build_fn=baseline_model, epochs=20, batch_size=64, verbose=1)\n",
        "\n",
        "history = estimator.fit(train, G_y_train)\n",
        "\n",
        "print(history.history)\n",
        "y_pred_tr = estimator.predict(train)\n",
        "\n",
        "train_error_prc = MAPE(G_y_train, y_pred_tr)\n",
        "train_error_abs = metrics.mean_absolute_error(G_y_train, y_pred_tr)\n",
        "print(\"Mean absolute train error: {:.2f}\".format(train_error_abs))\n",
        "\n",
        "import matplotlib.pyplot as plt\n",
        "\n",
        "y_pred_val = estimator.predict(valid)\n",
        "\n",
        "valid_error_prc = MAPE(G_y_valid, y_pred_val)\n",
        "valid_error_abs = metrics.mean_absolute_error(G_y_valid, y_pred_val)\n",
        "print(\"Mean absolute valid error: {:.2f}\".format(valid_error_abs))\n",
        "\n",
        "\n",
        "\n",
        "y_pred_test = estimator.predict(test)\n",
        "\n",
        "test_mae = metrics.mean_absolute_error(G_y_test, y_pred_test)\n",
        "print(\"Mean absolute valid error: {:.2f}\".format(test_mae))\n",
        "\n",
        "\n",
        "y_pred_val = estimator.predict(GTE_x)\n",
        "valid_error_abs = metrics.mean_absolute_error(GTE_y_modified, y_pred_val)\n",
        "\n",
        "print(\"GTEX: Mean absolute valid error: {:.2f}\".format(valid_error_abs))\n",
        "plt.plot(history.history['loss'])\n",
        "\n",
        "plt.title('Model Validation Loss')\n",
        "plt.ylabel('Loss')\n",
        "plt.xlabel('Epoch')\n",
        "plt.legend(['FFN'], loc='upper left')\n",
        "plt.show()"
      ],
      "execution_count": 0,
      "outputs": []
    },
    {
      "metadata": {
        "id": "9DYZQQCM5exp",
        "colab_type": "code",
        "outputId": "b68c1803-b164-423b-ac37-a0ff8e014385",
        "colab": {
          "base_uri": "https://localhost:8080/",
          "height": 362
        }
      },
      "cell_type": "code",
      "source": [
        "valid_errs = []\n",
        "train_errs = []\n",
        "epochs = range(20, 100, 10)\n",
        "\n",
        "\n",
        "for epc in epochs:\n",
        "  estimator = KerasRegressor(build_fn=baseline_model, epochs=epc, batch_size=64, verbose=0)\n",
        "  estimator.fit(train, G_y_train)\n",
        "  y_pred_tr = estimator.predict(train)\n",
        "  train_errs.append(metrics.mean_absolute_error(G_y_train, y_pred_tr))\n",
        "  y_pred_val = estimator.predict(valid)\n",
        "  valid_errs.append(metrics.mean_absolute_error(G_y_valid, y_pred_val))\n",
        "\n",
        "  \n",
        "  \n",
        "  \n",
        "plt.plot(epochs, valid_errs, 'gs', epochs, train_errs, 'bs' )\n",
        "plt\n",
        "plt.title('Validation vs Training Loss')\n",
        "plt.ylabel('Loss')\n",
        "plt.legend(['Validation Loss', 'Training Loss'], loc='upper left')\n",
        "plt.show()\n",
        "\n"
      ],
      "execution_count": 0,
      "outputs": [
        {
          "output_type": "display_data",
          "data": {
            "image/png": "[encoded data removed]",
            "text/plain": [
              "<matplotlib.figure.Figure at 0x7fa6eddcff28>"
            ]
          },
          "metadata": {
            "tags": []
          }
        }
      ]
    },
    {
      "metadata": {
        "id": "h0rVRS-mxFhx",
        "colab_type": "text"
      },
      "cell_type": "markdown",
      "source": [
        "## Convolutional Neural Network"
      ]
    },
    {
      "metadata": {
        "id": "fkrkFaJdFY-d",
        "colab_type": "text"
      },
      "cell_type": "markdown",
      "source": [
        "Size of the convolutions\n",
        "  - Input is 24 000 x 551"
      ]
    },
    {
      "metadata": {
        "id": "S9WregtPFbMl",
        "colab_type": "code",
        "outputId": "4da9e6bc-a320-4326-b632-bfeb55aa31d8",
        "colab": {
          "base_uri": "https://localhost:8080/",
          "height": 34
        }
      },
      "cell_type": "code",
      "source": [
        "print(train.shape)"
      ],
      "execution_count": 0,
      "outputs": [
        {
          "output_type": "stream",
          "text": [
            "(24000, 551)\n"
          ],
          "name": "stdout"
        }
      ]
    },
    {
      "metadata": {
        "id": "FqThvmvCyn0D",
        "colab_type": "code",
        "outputId": "ad0489f8-f854-450e-b29e-d9600cae0882",
        "colab": {
          "base_uri": "https://localhost:8080/",
          "height": 2802
        }
      },
      "cell_type": "code",
      "source": [
        "from sklearn import preprocessing\n",
        "from keras.layers import Convolution1D, MaxPooling1D, Dropout, LSTM, Dense, Embedding, Flatten\n",
        "from keras.models import Sequential\n",
        "from keras import regularizers, optimizers\n",
        "\n",
        "\n",
        "#TODO: GET RIGHT LAYER SIZES\n",
        "#TODO: GET RIIGHT OUTPUT LAYER, NOT SOFTMAX\n",
        "def CNN_model():\n",
        "  model = Sequential()\n",
        "\n",
        "  model.add(Convolution1D(100, 40, activation='relu', input_shape=(1, 551)))\n",
        "\n",
        "\n",
        "  model.add(Dropout(0.5))\n",
        "\n",
        "  model.add(Conv1D(100, 10, activation='relu'))\n",
        "  model.add(MaxPooling1D(3))\n",
        "  \n",
        "  \n",
        "  model.compile(\n",
        "    loss='categorical_crossentropy',\n",
        "    optimizer=optimizers.RMSprop(),\n",
        "    metrics = ['accuracy']\n",
        "  )\n",
        "  return model\n",
        "\n",
        "# fix random seed for reproducibility\n",
        "# evaluate model with standardized dataset\n",
        "estimator = KerasRegressor(build_fn=CNN_model, epochs=100, batch_size=64, verbose=0)\n",
        "\n",
        "history = estimator.fit(train, G_y_train)\n",
        "\n",
        "print(history.history)\n",
        "y_pred_tr = estimator.predict(train)\n",
        "\n",
        "train_error_prc = MAPE(G_y_train, y_pred_tr)\n",
        "train_error_abs = metrics.mean_absolute_error(G_y_train, y_pred_tr)\n",
        "print(\"Mean percentage train error: {:.2f}%\".format(train_error_prc))\n",
        "print(\"Mean absolute train error: {:.2f}\".format(train_error_abs))\n",
        "\n",
        "import matplotlib.pyplot as plt\n",
        "\n",
        "y_pred_val = estimator.predict(valid)\n",
        "\n",
        "valid_error_prc = MAPE(G_y_valid, y_pred_val)\n",
        "valid_error_abs = metrics.mean_absolute_error(G_y_valid, y_pred_val)\n",
        "print(\"Mean percentage valid error: {:.2f}%\".format(valid_error_prc))\n",
        "print(\"Mean absolute valid error: {:.2f}\".format(valid_error_abs))\n",
        "\n",
        "\n",
        "plt.plot(history.history['loss'])\n",
        "\n",
        "plt.title('Model Validation Loss')\n",
        "plt.ylabel('Loss')\n",
        "plt.xlabel('Epoch')\n",
        "plt.legend(['FFN'], loc='upper left')\n",
        "plt.show()\n",
        "\n",
        "\n"
      ],
      "execution_count": 0,
      "outputs": [
        {
          "output_type": "error",
          "ename": "ValueError",
          "evalue": "ignored",
          "traceback": [
            "\u001b[0;31m---------------------------------------------------------------------------\u001b[0m",
            "\u001b[0;31mInvalidArgumentError\u001b[0m                      Traceback (most recent call last)",
            "\u001b[0;32m/usr/local/lib/python3.6/dist-packages/tensorflow/python/framework/ops.py\u001b[0m in \u001b[0;36m_create_c_op\u001b[0;34m(graph, node_def, inputs, control_inputs)\u001b[0m\n\u001b[1;32m   1627\u001b[0m   \u001b[0;32mtry\u001b[0m\u001b[0;34m:\u001b[0m\u001b[0;34m\u001b[0m\u001b[0;34m\u001b[0m\u001b[0m\n\u001b[0;32m-> 1628\u001b[0;31m     \u001b[0mc_op\u001b[0m \u001b[0;34m=\u001b[0m \u001b[0mc_api\u001b[0m\u001b[0;34m.\u001b[0m\u001b[0mTF_FinishOperation\u001b[0m\u001b[0;34m(\u001b[0m\u001b[0mop_desc\u001b[0m\u001b[0;34m)\u001b[0m\u001b[0;34m\u001b[0m\u001b[0;34m\u001b[0m\u001b[0m\n\u001b[0m\u001b[1;32m   1629\u001b[0m   \u001b[0;32mexcept\u001b[0m \u001b[0merrors\u001b[0m\u001b[0;34m.\u001b[0m\u001b[0mInvalidArgumentError\u001b[0m \u001b[0;32mas\u001b[0m \u001b[0me\u001b[0m\u001b[0;34m:\u001b[0m\u001b[0;34m\u001b[0m\u001b[0;34m\u001b[0m\u001b[0m\n",
            "\u001b[0;31mInvalidArgumentError\u001b[0m: Negative dimension size caused by subtracting 40 from 1 for 'conv1d_13/convolution/Conv2D' (op: 'Conv2D') with input shapes: [?,1,1,551], [1,40,551,100].",
            "\nDuring handling of the above exception, another exception occurred:\n",
            "\u001b[0;31mValueError\u001b[0m                                Traceback (most recent call last)",
            "\u001b[0;32m<ipython-input-23-1e763cc61972>\u001b[0m in \u001b[0;36m<module>\u001b[0;34m()\u001b[0m\n\u001b[1;32m     40\u001b[0m \u001b[0mestimator\u001b[0m \u001b[0;34m=\u001b[0m \u001b[0mKerasRegressor\u001b[0m\u001b[0;34m(\u001b[0m\u001b[0mbuild_fn\u001b[0m\u001b[0;34m=\u001b[0m\u001b[0mCNN_model\u001b[0m\u001b[0;34m,\u001b[0m \u001b[0mepochs\u001b[0m\u001b[0;34m=\u001b[0m\u001b[0;36m100\u001b[0m\u001b[0;34m,\u001b[0m \u001b[0mbatch_size\u001b[0m\u001b[0;34m=\u001b[0m\u001b[0;36m64\u001b[0m\u001b[0;34m,\u001b[0m \u001b[0mverbose\u001b[0m\u001b[0;34m=\u001b[0m\u001b[0;36m0\u001b[0m\u001b[0;34m)\u001b[0m\u001b[0;34m\u001b[0m\u001b[0;34m\u001b[0m\u001b[0m\n\u001b[1;32m     41\u001b[0m \u001b[0;34m\u001b[0m\u001b[0m\n\u001b[0;32m---> 42\u001b[0;31m \u001b[0mhistory\u001b[0m \u001b[0;34m=\u001b[0m \u001b[0mestimator\u001b[0m\u001b[0;34m.\u001b[0m\u001b[0mfit\u001b[0m\u001b[0;34m(\u001b[0m\u001b[0mtrain\u001b[0m\u001b[0;34m,\u001b[0m \u001b[0mG_y_train\u001b[0m\u001b[0;34m)\u001b[0m\u001b[0;34m\u001b[0m\u001b[0;34m\u001b[0m\u001b[0m\n\u001b[0m\u001b[1;32m     43\u001b[0m \u001b[0;34m\u001b[0m\u001b[0m\n\u001b[1;32m     44\u001b[0m \u001b[0mprint\u001b[0m\u001b[0;34m(\u001b[0m\u001b[0mhistory\u001b[0m\u001b[0;34m.\u001b[0m\u001b[0mhistory\u001b[0m\u001b[0;34m)\u001b[0m\u001b[0;34m\u001b[0m\u001b[0;34m\u001b[0m\u001b[0m\n",
            "\u001b[0;32m/usr/local/lib/python3.6/dist-packages/keras/wrappers/scikit_learn.py\u001b[0m in \u001b[0;36mfit\u001b[0;34m(self, x, y, **kwargs)\u001b[0m\n\u001b[1;32m    139\u001b[0m                 **self.filter_sk_params(self.build_fn.__call__))\n\u001b[1;32m    140\u001b[0m         \u001b[0;32melse\u001b[0m\u001b[0;34m:\u001b[0m\u001b[0;34m\u001b[0m\u001b[0;34m\u001b[0m\u001b[0m\n\u001b[0;32m--> 141\u001b[0;31m             \u001b[0mself\u001b[0m\u001b[0;34m.\u001b[0m\u001b[0mmodel\u001b[0m \u001b[0;34m=\u001b[0m \u001b[0mself\u001b[0m\u001b[0;34m.\u001b[0m\u001b[0mbuild_fn\u001b[0m\u001b[0;34m(\u001b[0m\u001b[0;34m**\u001b[0m\u001b[0mself\u001b[0m\u001b[0;34m.\u001b[0m\u001b[0mfilter_sk_params\u001b[0m\u001b[0;34m(\u001b[0m\u001b[0mself\u001b[0m\u001b[0;34m.\u001b[0m\u001b[0mbuild_fn\u001b[0m\u001b[0;34m)\u001b[0m\u001b[0;34m)\u001b[0m\u001b[0;34m\u001b[0m\u001b[0;34m\u001b[0m\u001b[0m\n\u001b[0m\u001b[1;32m    142\u001b[0m \u001b[0;34m\u001b[0m\u001b[0m\n\u001b[1;32m    143\u001b[0m         \u001b[0mloss_name\u001b[0m \u001b[0;34m=\u001b[0m \u001b[0mself\u001b[0m\u001b[0;34m.\u001b[0m\u001b[0mmodel\u001b[0m\u001b[0;34m.\u001b[0m\u001b[0mloss\u001b[0m\u001b[0;34m\u001b[0m\u001b[0;34m\u001b[0m\u001b[0m\n",
            "\u001b[0;32m<ipython-input-23-1e763cc61972>\u001b[0m in \u001b[0;36mCNN_model\u001b[0;34m()\u001b[0m\n\u001b[1;32m     10\u001b[0m   \u001b[0mmodel\u001b[0m \u001b[0;34m=\u001b[0m \u001b[0mSequential\u001b[0m\u001b[0;34m(\u001b[0m\u001b[0;34m)\u001b[0m\u001b[0;34m\u001b[0m\u001b[0;34m\u001b[0m\u001b[0m\n\u001b[1;32m     11\u001b[0m \u001b[0;34m\u001b[0m\u001b[0m\n\u001b[0;32m---> 12\u001b[0;31m   \u001b[0mmodel\u001b[0m\u001b[0;34m.\u001b[0m\u001b[0madd\u001b[0m\u001b[0;34m(\u001b[0m\u001b[0mConvolution1D\u001b[0m\u001b[0;34m(\u001b[0m\u001b[0;36m100\u001b[0m\u001b[0;34m,\u001b[0m \u001b[0;36m40\u001b[0m\u001b[0;34m,\u001b[0m \u001b[0mactivation\u001b[0m\u001b[0;34m=\u001b[0m\u001b[0;34m'relu'\u001b[0m\u001b[0;34m,\u001b[0m \u001b[0minput_shape\u001b[0m\u001b[0;34m=\u001b[0m\u001b[0;34m(\u001b[0m\u001b[0;36m1\u001b[0m\u001b[0;34m,\u001b[0m \u001b[0;36m551\u001b[0m\u001b[0;34m)\u001b[0m\u001b[0;34m)\u001b[0m\u001b[0;34m)\u001b[0m\u001b[0;34m\u001b[0m\u001b[0;34m\u001b[0m\u001b[0m\n\u001b[0m\u001b[1;32m     13\u001b[0m \u001b[0;34m\u001b[0m\u001b[0m\n\u001b[1;32m     14\u001b[0m \u001b[0;34m\u001b[0m\u001b[0m\n",
            "\u001b[0;32m/usr/local/lib/python3.6/dist-packages/keras/engine/sequential.py\u001b[0m in \u001b[0;36madd\u001b[0;34m(self, layer)\u001b[0m\n\u001b[1;32m    163\u001b[0m                     \u001b[0;31m# and create the node connecting the current layer\u001b[0m\u001b[0;34m\u001b[0m\u001b[0;34m\u001b[0m\u001b[0;34m\u001b[0m\u001b[0m\n\u001b[1;32m    164\u001b[0m                     \u001b[0;31m# to the input layer we just created.\u001b[0m\u001b[0;34m\u001b[0m\u001b[0;34m\u001b[0m\u001b[0;34m\u001b[0m\u001b[0m\n\u001b[0;32m--> 165\u001b[0;31m                     \u001b[0mlayer\u001b[0m\u001b[0;34m(\u001b[0m\u001b[0mx\u001b[0m\u001b[0;34m)\u001b[0m\u001b[0;34m\u001b[0m\u001b[0;34m\u001b[0m\u001b[0m\n\u001b[0m\u001b[1;32m    166\u001b[0m                     \u001b[0mset_inputs\u001b[0m \u001b[0;34m=\u001b[0m \u001b[0;32mTrue\u001b[0m\u001b[0;34m\u001b[0m\u001b[0;34m\u001b[0m\u001b[0m\n\u001b[1;32m    167\u001b[0m             \u001b[0;32melse\u001b[0m\u001b[0;34m:\u001b[0m\u001b[0;34m\u001b[0m\u001b[0;34m\u001b[0m\u001b[0m\n",
            "\u001b[0;32m/usr/local/lib/python3.6/dist-packages/keras/engine/base_layer.py\u001b[0m in \u001b[0;36m__call__\u001b[0;34m(self, inputs, **kwargs)\u001b[0m\n\u001b[1;32m    455\u001b[0m             \u001b[0;31m# Actually call the layer,\u001b[0m\u001b[0;34m\u001b[0m\u001b[0;34m\u001b[0m\u001b[0;34m\u001b[0m\u001b[0m\n\u001b[1;32m    456\u001b[0m             \u001b[0;31m# collecting output(s), mask(s), and shape(s).\u001b[0m\u001b[0;34m\u001b[0m\u001b[0;34m\u001b[0m\u001b[0;34m\u001b[0m\u001b[0m\n\u001b[0;32m--> 457\u001b[0;31m             \u001b[0moutput\u001b[0m \u001b[0;34m=\u001b[0m \u001b[0mself\u001b[0m\u001b[0;34m.\u001b[0m\u001b[0mcall\u001b[0m\u001b[0;34m(\u001b[0m\u001b[0minputs\u001b[0m\u001b[0;34m,\u001b[0m \u001b[0;34m**\u001b[0m\u001b[0mkwargs\u001b[0m\u001b[0;34m)\u001b[0m\u001b[0;34m\u001b[0m\u001b[0;34m\u001b[0m\u001b[0m\n\u001b[0m\u001b[1;32m    458\u001b[0m             \u001b[0moutput_mask\u001b[0m \u001b[0;34m=\u001b[0m \u001b[0mself\u001b[0m\u001b[0;34m.\u001b[0m\u001b[0mcompute_mask\u001b[0m\u001b[0;34m(\u001b[0m\u001b[0minputs\u001b[0m\u001b[0;34m,\u001b[0m \u001b[0mprevious_mask\u001b[0m\u001b[0;34m)\u001b[0m\u001b[0;34m\u001b[0m\u001b[0;34m\u001b[0m\u001b[0m\n\u001b[1;32m    459\u001b[0m \u001b[0;34m\u001b[0m\u001b[0m\n",
            "\u001b[0;32m/usr/local/lib/python3.6/dist-packages/keras/layers/convolutional.py\u001b[0m in \u001b[0;36mcall\u001b[0;34m(self, inputs)\u001b[0m\n\u001b[1;32m    161\u001b[0m                 \u001b[0mpadding\u001b[0m\u001b[0;34m=\u001b[0m\u001b[0mself\u001b[0m\u001b[0;34m.\u001b[0m\u001b[0mpadding\u001b[0m\u001b[0;34m,\u001b[0m\u001b[0;34m\u001b[0m\u001b[0;34m\u001b[0m\u001b[0m\n\u001b[1;32m    162\u001b[0m                 \u001b[0mdata_format\u001b[0m\u001b[0;34m=\u001b[0m\u001b[0mself\u001b[0m\u001b[0;34m.\u001b[0m\u001b[0mdata_format\u001b[0m\u001b[0;34m,\u001b[0m\u001b[0;34m\u001b[0m\u001b[0;34m\u001b[0m\u001b[0m\n\u001b[0;32m--> 163\u001b[0;31m                 dilation_rate=self.dilation_rate[0])\n\u001b[0m\u001b[1;32m    164\u001b[0m         \u001b[0;32mif\u001b[0m \u001b[0mself\u001b[0m\u001b[0;34m.\u001b[0m\u001b[0mrank\u001b[0m \u001b[0;34m==\u001b[0m \u001b[0;36m2\u001b[0m\u001b[0;34m:\u001b[0m\u001b[0;34m\u001b[0m\u001b[0;34m\u001b[0m\u001b[0m\n\u001b[1;32m    165\u001b[0m             outputs = K.conv2d(\n",
            "\u001b[0;32m/usr/local/lib/python3.6/dist-packages/keras/backend/tensorflow_backend.py\u001b[0m in \u001b[0;36mconv1d\u001b[0;34m(x, kernel, strides, padding, data_format, dilation_rate)\u001b[0m\n\u001b[1;32m   3609\u001b[0m         \u001b[0mstrides\u001b[0m\u001b[0;34m=\u001b[0m\u001b[0;34m(\u001b[0m\u001b[0mstrides\u001b[0m\u001b[0;34m,\u001b[0m\u001b[0;34m)\u001b[0m\u001b[0;34m,\u001b[0m\u001b[0;34m\u001b[0m\u001b[0;34m\u001b[0m\u001b[0m\n\u001b[1;32m   3610\u001b[0m         \u001b[0mpadding\u001b[0m\u001b[0;34m=\u001b[0m\u001b[0mpadding\u001b[0m\u001b[0;34m,\u001b[0m\u001b[0;34m\u001b[0m\u001b[0;34m\u001b[0m\u001b[0m\n\u001b[0;32m-> 3611\u001b[0;31m         data_format=tf_data_format)\n\u001b[0m\u001b[1;32m   3612\u001b[0m \u001b[0;34m\u001b[0m\u001b[0m\n\u001b[1;32m   3613\u001b[0m     \u001b[0;32mif\u001b[0m \u001b[0mdata_format\u001b[0m \u001b[0;34m==\u001b[0m \u001b[0;34m'channels_first'\u001b[0m \u001b[0;32mand\u001b[0m \u001b[0mtf_data_format\u001b[0m \u001b[0;34m==\u001b[0m \u001b[0;34m'NWC'\u001b[0m\u001b[0;34m:\u001b[0m\u001b[0;34m\u001b[0m\u001b[0;34m\u001b[0m\u001b[0m\n",
            "\u001b[0;32m/usr/local/lib/python3.6/dist-packages/tensorflow/python/ops/nn_ops.py\u001b[0m in \u001b[0;36mconvolution\u001b[0;34m(input, filter, padding, strides, dilation_rate, name, data_format)\u001b[0m\n\u001b[1;32m    778\u001b[0m         \u001b[0mname\u001b[0m\u001b[0;34m=\u001b[0m\u001b[0mname\u001b[0m\u001b[0;34m,\u001b[0m\u001b[0;34m\u001b[0m\u001b[0;34m\u001b[0m\u001b[0m\n\u001b[1;32m    779\u001b[0m         data_format=data_format)\n\u001b[0;32m--> 780\u001b[0;31m     \u001b[0;32mreturn\u001b[0m \u001b[0mop\u001b[0m\u001b[0;34m(\u001b[0m\u001b[0minput\u001b[0m\u001b[0;34m,\u001b[0m \u001b[0mfilter\u001b[0m\u001b[0;34m)\u001b[0m\u001b[0;34m\u001b[0m\u001b[0;34m\u001b[0m\u001b[0m\n\u001b[0m\u001b[1;32m    781\u001b[0m \u001b[0;34m\u001b[0m\u001b[0m\n\u001b[1;32m    782\u001b[0m \u001b[0;34m\u001b[0m\u001b[0m\n",
            "\u001b[0;32m/usr/local/lib/python3.6/dist-packages/tensorflow/python/ops/nn_ops.py\u001b[0m in \u001b[0;36m__call__\u001b[0;34m(self, inp, filter)\u001b[0m\n\u001b[1;32m    866\u001b[0m \u001b[0;34m\u001b[0m\u001b[0m\n\u001b[1;32m    867\u001b[0m   \u001b[0;32mdef\u001b[0m \u001b[0m__call__\u001b[0m\u001b[0;34m(\u001b[0m\u001b[0mself\u001b[0m\u001b[0;34m,\u001b[0m \u001b[0minp\u001b[0m\u001b[0;34m,\u001b[0m \u001b[0mfilter\u001b[0m\u001b[0;34m)\u001b[0m\u001b[0;34m:\u001b[0m  \u001b[0;31m# pylint: disable=redefined-builtin\u001b[0m\u001b[0;34m\u001b[0m\u001b[0;34m\u001b[0m\u001b[0m\n\u001b[0;32m--> 868\u001b[0;31m     \u001b[0;32mreturn\u001b[0m \u001b[0mself\u001b[0m\u001b[0;34m.\u001b[0m\u001b[0mconv_op\u001b[0m\u001b[0;34m(\u001b[0m\u001b[0minp\u001b[0m\u001b[0;34m,\u001b[0m \u001b[0mfilter\u001b[0m\u001b[0;34m)\u001b[0m\u001b[0;34m\u001b[0m\u001b[0;34m\u001b[0m\u001b[0m\n\u001b[0m\u001b[1;32m    869\u001b[0m \u001b[0;34m\u001b[0m\u001b[0m\n\u001b[1;32m    870\u001b[0m \u001b[0;34m\u001b[0m\u001b[0m\n",
            "\u001b[0;32m/usr/local/lib/python3.6/dist-packages/tensorflow/python/ops/nn_ops.py\u001b[0m in \u001b[0;36m__call__\u001b[0;34m(self, inp, filter)\u001b[0m\n\u001b[1;32m    518\u001b[0m \u001b[0;34m\u001b[0m\u001b[0m\n\u001b[1;32m    519\u001b[0m   \u001b[0;32mdef\u001b[0m \u001b[0m__call__\u001b[0m\u001b[0;34m(\u001b[0m\u001b[0mself\u001b[0m\u001b[0;34m,\u001b[0m \u001b[0minp\u001b[0m\u001b[0;34m,\u001b[0m \u001b[0mfilter\u001b[0m\u001b[0;34m)\u001b[0m\u001b[0;34m:\u001b[0m  \u001b[0;31m# pylint: disable=redefined-builtin\u001b[0m\u001b[0;34m\u001b[0m\u001b[0;34m\u001b[0m\u001b[0m\n\u001b[0;32m--> 520\u001b[0;31m     \u001b[0;32mreturn\u001b[0m \u001b[0mself\u001b[0m\u001b[0;34m.\u001b[0m\u001b[0mcall\u001b[0m\u001b[0;34m(\u001b[0m\u001b[0minp\u001b[0m\u001b[0;34m,\u001b[0m \u001b[0mfilter\u001b[0m\u001b[0;34m)\u001b[0m\u001b[0;34m\u001b[0m\u001b[0;34m\u001b[0m\u001b[0m\n\u001b[0m\u001b[1;32m    521\u001b[0m \u001b[0;34m\u001b[0m\u001b[0m\n\u001b[1;32m    522\u001b[0m \u001b[0;34m\u001b[0m\u001b[0m\n",
            "\u001b[0;32m/usr/local/lib/python3.6/dist-packages/tensorflow/python/ops/nn_ops.py\u001b[0m in \u001b[0;36m__call__\u001b[0;34m(self, inp, filter)\u001b[0m\n\u001b[1;32m    202\u001b[0m         \u001b[0mpadding\u001b[0m\u001b[0;34m=\u001b[0m\u001b[0mself\u001b[0m\u001b[0;34m.\u001b[0m\u001b[0mpadding\u001b[0m\u001b[0;34m,\u001b[0m\u001b[0;34m\u001b[0m\u001b[0;34m\u001b[0m\u001b[0m\n\u001b[1;32m    203\u001b[0m         \u001b[0mdata_format\u001b[0m\u001b[0;34m=\u001b[0m\u001b[0mself\u001b[0m\u001b[0;34m.\u001b[0m\u001b[0mdata_format\u001b[0m\u001b[0;34m,\u001b[0m\u001b[0;34m\u001b[0m\u001b[0;34m\u001b[0m\u001b[0m\n\u001b[0;32m--> 204\u001b[0;31m         name=self.name)\n\u001b[0m\u001b[1;32m    205\u001b[0m \u001b[0;34m\u001b[0m\u001b[0m\n\u001b[1;32m    206\u001b[0m \u001b[0;34m\u001b[0m\u001b[0m\n",
            "\u001b[0;32m/usr/local/lib/python3.6/dist-packages/tensorflow/python/ops/nn_ops.py\u001b[0m in \u001b[0;36m_conv1d\u001b[0;34m(self, input, filter, strides, padding, data_format, name)\u001b[0m\n\u001b[1;32m    191\u001b[0m         \u001b[0mpadding\u001b[0m\u001b[0;34m=\u001b[0m\u001b[0mpadding\u001b[0m\u001b[0;34m,\u001b[0m\u001b[0;34m\u001b[0m\u001b[0;34m\u001b[0m\u001b[0m\n\u001b[1;32m    192\u001b[0m         \u001b[0mdata_format\u001b[0m\u001b[0;34m=\u001b[0m\u001b[0mdata_format\u001b[0m\u001b[0;34m,\u001b[0m\u001b[0;34m\u001b[0m\u001b[0;34m\u001b[0m\u001b[0m\n\u001b[0;32m--> 193\u001b[0;31m         name=name)\n\u001b[0m\u001b[1;32m    194\u001b[0m \u001b[0;34m\u001b[0m\u001b[0m\n\u001b[1;32m    195\u001b[0m   \u001b[0;31m# pylint: enable=redefined-builtin\u001b[0m\u001b[0;34m\u001b[0m\u001b[0;34m\u001b[0m\u001b[0;34m\u001b[0m\u001b[0m\n",
            "\u001b[0;32m/usr/local/lib/python3.6/dist-packages/tensorflow/python/util/deprecation.py\u001b[0m in \u001b[0;36mnew_func\u001b[0;34m(*args, **kwargs)\u001b[0m\n\u001b[1;32m    551\u001b[0m                   \u001b[0mfunc\u001b[0m\u001b[0;34m.\u001b[0m\u001b[0m__module__\u001b[0m\u001b[0;34m,\u001b[0m \u001b[0marg_name\u001b[0m\u001b[0;34m,\u001b[0m \u001b[0marg_value\u001b[0m\u001b[0;34m,\u001b[0m \u001b[0;34m'in a future version'\u001b[0m\u001b[0;34m\u001b[0m\u001b[0;34m\u001b[0m\u001b[0m\n\u001b[1;32m    552\u001b[0m                   if date is None else ('after %s' % date), instructions)\n\u001b[0;32m--> 553\u001b[0;31m       \u001b[0;32mreturn\u001b[0m \u001b[0mfunc\u001b[0m\u001b[0;34m(\u001b[0m\u001b[0;34m*\u001b[0m\u001b[0margs\u001b[0m\u001b[0;34m,\u001b[0m \u001b[0;34m**\u001b[0m\u001b[0mkwargs\u001b[0m\u001b[0;34m)\u001b[0m\u001b[0;34m\u001b[0m\u001b[0;34m\u001b[0m\u001b[0m\n\u001b[0m\u001b[1;32m    554\u001b[0m     return tf_decorator.make_decorator(func, new_func, 'deprecated',\n\u001b[1;32m    555\u001b[0m                                        _add_deprecated_arg_notice_to_docstring(\n",
            "\u001b[0;32m/usr/local/lib/python3.6/dist-packages/tensorflow/python/util/deprecation.py\u001b[0m in \u001b[0;36mnew_func\u001b[0;34m(*args, **kwargs)\u001b[0m\n\u001b[1;32m    551\u001b[0m                   \u001b[0mfunc\u001b[0m\u001b[0;34m.\u001b[0m\u001b[0m__module__\u001b[0m\u001b[0;34m,\u001b[0m \u001b[0marg_name\u001b[0m\u001b[0;34m,\u001b[0m \u001b[0marg_value\u001b[0m\u001b[0;34m,\u001b[0m \u001b[0;34m'in a future version'\u001b[0m\u001b[0;34m\u001b[0m\u001b[0;34m\u001b[0m\u001b[0m\n\u001b[1;32m    552\u001b[0m                   if date is None else ('after %s' % date), instructions)\n\u001b[0;32m--> 553\u001b[0;31m       \u001b[0;32mreturn\u001b[0m \u001b[0mfunc\u001b[0m\u001b[0;34m(\u001b[0m\u001b[0;34m*\u001b[0m\u001b[0margs\u001b[0m\u001b[0;34m,\u001b[0m \u001b[0;34m**\u001b[0m\u001b[0mkwargs\u001b[0m\u001b[0;34m)\u001b[0m\u001b[0;34m\u001b[0m\u001b[0;34m\u001b[0m\u001b[0m\n\u001b[0m\u001b[1;32m    554\u001b[0m     return tf_decorator.make_decorator(func, new_func, 'deprecated',\n\u001b[1;32m    555\u001b[0m                                        _add_deprecated_arg_notice_to_docstring(\n",
            "\u001b[0;32m/usr/local/lib/python3.6/dist-packages/tensorflow/python/ops/nn_ops.py\u001b[0m in \u001b[0;36mconv1d\u001b[0;34m(value, filters, stride, padding, use_cudnn_on_gpu, data_format, name)\u001b[0m\n\u001b[1;32m   2469\u001b[0m         \u001b[0mpadding\u001b[0m\u001b[0;34m,\u001b[0m\u001b[0;34m\u001b[0m\u001b[0;34m\u001b[0m\u001b[0m\n\u001b[1;32m   2470\u001b[0m         \u001b[0muse_cudnn_on_gpu\u001b[0m\u001b[0;34m=\u001b[0m\u001b[0muse_cudnn_on_gpu\u001b[0m\u001b[0;34m,\u001b[0m\u001b[0;34m\u001b[0m\u001b[0;34m\u001b[0m\u001b[0m\n\u001b[0;32m-> 2471\u001b[0;31m         data_format=data_format)\n\u001b[0m\u001b[1;32m   2472\u001b[0m     \u001b[0;32mreturn\u001b[0m \u001b[0marray_ops\u001b[0m\u001b[0;34m.\u001b[0m\u001b[0msqueeze\u001b[0m\u001b[0;34m(\u001b[0m\u001b[0mresult\u001b[0m\u001b[0;34m,\u001b[0m \u001b[0;34m[\u001b[0m\u001b[0mspatial_start_dim\u001b[0m\u001b[0;34m]\u001b[0m\u001b[0;34m)\u001b[0m\u001b[0;34m\u001b[0m\u001b[0;34m\u001b[0m\u001b[0m\n\u001b[1;32m   2473\u001b[0m \u001b[0;34m\u001b[0m\u001b[0m\n",
            "\u001b[0;32m/usr/local/lib/python3.6/dist-packages/tensorflow/python/ops/gen_nn_ops.py\u001b[0m in \u001b[0;36mconv2d\u001b[0;34m(input, filter, strides, padding, use_cudnn_on_gpu, data_format, dilations, name)\u001b[0m\n\u001b[1;32m    955\u001b[0m         \u001b[0;34m\"Conv2D\"\u001b[0m\u001b[0;34m,\u001b[0m \u001b[0minput\u001b[0m\u001b[0;34m=\u001b[0m\u001b[0minput\u001b[0m\u001b[0;34m,\u001b[0m \u001b[0mfilter\u001b[0m\u001b[0;34m=\u001b[0m\u001b[0mfilter\u001b[0m\u001b[0;34m,\u001b[0m \u001b[0mstrides\u001b[0m\u001b[0;34m=\u001b[0m\u001b[0mstrides\u001b[0m\u001b[0;34m,\u001b[0m\u001b[0;34m\u001b[0m\u001b[0;34m\u001b[0m\u001b[0m\n\u001b[1;32m    956\u001b[0m         \u001b[0mpadding\u001b[0m\u001b[0;34m=\u001b[0m\u001b[0mpadding\u001b[0m\u001b[0;34m,\u001b[0m \u001b[0muse_cudnn_on_gpu\u001b[0m\u001b[0;34m=\u001b[0m\u001b[0muse_cudnn_on_gpu\u001b[0m\u001b[0;34m,\u001b[0m\u001b[0;34m\u001b[0m\u001b[0;34m\u001b[0m\u001b[0m\n\u001b[0;32m--> 957\u001b[0;31m         data_format=data_format, dilations=dilations, name=name)\n\u001b[0m\u001b[1;32m    958\u001b[0m     \u001b[0m_result\u001b[0m \u001b[0;34m=\u001b[0m \u001b[0m_op\u001b[0m\u001b[0;34m.\u001b[0m\u001b[0moutputs\u001b[0m\u001b[0;34m[\u001b[0m\u001b[0;34m:\u001b[0m\u001b[0;34m]\u001b[0m\u001b[0;34m\u001b[0m\u001b[0;34m\u001b[0m\u001b[0m\n\u001b[1;32m    959\u001b[0m     \u001b[0m_inputs_flat\u001b[0m \u001b[0;34m=\u001b[0m \u001b[0m_op\u001b[0m\u001b[0;34m.\u001b[0m\u001b[0minputs\u001b[0m\u001b[0;34m\u001b[0m\u001b[0;34m\u001b[0m\u001b[0m\n",
            "\u001b[0;32m/usr/local/lib/python3.6/dist-packages/tensorflow/python/framework/op_def_library.py\u001b[0m in \u001b[0;36m_apply_op_helper\u001b[0;34m(self, op_type_name, name, **keywords)\u001b[0m\n\u001b[1;32m    785\u001b[0m         op = g.create_op(op_type_name, inputs, output_types, name=scope,\n\u001b[1;32m    786\u001b[0m                          \u001b[0minput_types\u001b[0m\u001b[0;34m=\u001b[0m\u001b[0minput_types\u001b[0m\u001b[0;34m,\u001b[0m \u001b[0mattrs\u001b[0m\u001b[0;34m=\u001b[0m\u001b[0mattr_protos\u001b[0m\u001b[0;34m,\u001b[0m\u001b[0;34m\u001b[0m\u001b[0;34m\u001b[0m\u001b[0m\n\u001b[0;32m--> 787\u001b[0;31m                          op_def=op_def)\n\u001b[0m\u001b[1;32m    788\u001b[0m       \u001b[0;32mreturn\u001b[0m \u001b[0moutput_structure\u001b[0m\u001b[0;34m,\u001b[0m \u001b[0mop_def\u001b[0m\u001b[0;34m.\u001b[0m\u001b[0mis_stateful\u001b[0m\u001b[0;34m,\u001b[0m \u001b[0mop\u001b[0m\u001b[0;34m\u001b[0m\u001b[0;34m\u001b[0m\u001b[0m\n\u001b[1;32m    789\u001b[0m \u001b[0;34m\u001b[0m\u001b[0m\n",
            "\u001b[0;32m/usr/local/lib/python3.6/dist-packages/tensorflow/python/util/deprecation.py\u001b[0m in \u001b[0;36mnew_func\u001b[0;34m(*args, **kwargs)\u001b[0m\n\u001b[1;32m    486\u001b[0m                 \u001b[0;34m'in a future version'\u001b[0m \u001b[0;32mif\u001b[0m \u001b[0mdate\u001b[0m \u001b[0;32mis\u001b[0m \u001b[0;32mNone\u001b[0m \u001b[0;32melse\u001b[0m \u001b[0;34m(\u001b[0m\u001b[0;34m'after %s'\u001b[0m \u001b[0;34m%\u001b[0m \u001b[0mdate\u001b[0m\u001b[0;34m)\u001b[0m\u001b[0;34m,\u001b[0m\u001b[0;34m\u001b[0m\u001b[0;34m\u001b[0m\u001b[0m\n\u001b[1;32m    487\u001b[0m                 instructions)\n\u001b[0;32m--> 488\u001b[0;31m       \u001b[0;32mreturn\u001b[0m \u001b[0mfunc\u001b[0m\u001b[0;34m(\u001b[0m\u001b[0;34m*\u001b[0m\u001b[0margs\u001b[0m\u001b[0;34m,\u001b[0m \u001b[0;34m**\u001b[0m\u001b[0mkwargs\u001b[0m\u001b[0;34m)\u001b[0m\u001b[0;34m\u001b[0m\u001b[0;34m\u001b[0m\u001b[0m\n\u001b[0m\u001b[1;32m    489\u001b[0m     return tf_decorator.make_decorator(func, new_func, 'deprecated',\n\u001b[1;32m    490\u001b[0m                                        _add_deprecated_arg_notice_to_docstring(\n",
            "\u001b[0;32m/usr/local/lib/python3.6/dist-packages/tensorflow/python/framework/ops.py\u001b[0m in \u001b[0;36mcreate_op\u001b[0;34m(***failed resolving arguments***)\u001b[0m\n\u001b[1;32m   3272\u001b[0m           \u001b[0minput_types\u001b[0m\u001b[0;34m=\u001b[0m\u001b[0minput_types\u001b[0m\u001b[0;34m,\u001b[0m\u001b[0;34m\u001b[0m\u001b[0;34m\u001b[0m\u001b[0m\n\u001b[1;32m   3273\u001b[0m           \u001b[0moriginal_op\u001b[0m\u001b[0;34m=\u001b[0m\u001b[0mself\u001b[0m\u001b[0;34m.\u001b[0m\u001b[0m_default_original_op\u001b[0m\u001b[0;34m,\u001b[0m\u001b[0;34m\u001b[0m\u001b[0;34m\u001b[0m\u001b[0m\n\u001b[0;32m-> 3274\u001b[0;31m           op_def=op_def)\n\u001b[0m\u001b[1;32m   3275\u001b[0m       \u001b[0mself\u001b[0m\u001b[0;34m.\u001b[0m\u001b[0m_create_op_helper\u001b[0m\u001b[0;34m(\u001b[0m\u001b[0mret\u001b[0m\u001b[0;34m,\u001b[0m \u001b[0mcompute_device\u001b[0m\u001b[0;34m=\u001b[0m\u001b[0mcompute_device\u001b[0m\u001b[0;34m)\u001b[0m\u001b[0;34m\u001b[0m\u001b[0;34m\u001b[0m\u001b[0m\n\u001b[1;32m   3276\u001b[0m     \u001b[0;32mreturn\u001b[0m \u001b[0mret\u001b[0m\u001b[0;34m\u001b[0m\u001b[0;34m\u001b[0m\u001b[0m\n",
            "\u001b[0;32m/usr/local/lib/python3.6/dist-packages/tensorflow/python/framework/ops.py\u001b[0m in \u001b[0;36m__init__\u001b[0;34m(self, node_def, g, inputs, output_types, control_inputs, input_types, original_op, op_def)\u001b[0m\n\u001b[1;32m   1790\u001b[0m           op_def, inputs, node_def.attr)\n\u001b[1;32m   1791\u001b[0m       self._c_op = _create_c_op(self._graph, node_def, grouped_inputs,\n\u001b[0;32m-> 1792\u001b[0;31m                                 control_input_ops)\n\u001b[0m\u001b[1;32m   1793\u001b[0m \u001b[0;34m\u001b[0m\u001b[0m\n\u001b[1;32m   1794\u001b[0m     \u001b[0;31m# Initialize self._outputs.\u001b[0m\u001b[0;34m\u001b[0m\u001b[0;34m\u001b[0m\u001b[0;34m\u001b[0m\u001b[0m\n",
            "\u001b[0;32m/usr/local/lib/python3.6/dist-packages/tensorflow/python/framework/ops.py\u001b[0m in \u001b[0;36m_create_c_op\u001b[0;34m(graph, node_def, inputs, control_inputs)\u001b[0m\n\u001b[1;32m   1629\u001b[0m   \u001b[0;32mexcept\u001b[0m \u001b[0merrors\u001b[0m\u001b[0;34m.\u001b[0m\u001b[0mInvalidArgumentError\u001b[0m \u001b[0;32mas\u001b[0m \u001b[0me\u001b[0m\u001b[0;34m:\u001b[0m\u001b[0;34m\u001b[0m\u001b[0;34m\u001b[0m\u001b[0m\n\u001b[1;32m   1630\u001b[0m     \u001b[0;31m# Convert to ValueError for backwards compatibility.\u001b[0m\u001b[0;34m\u001b[0m\u001b[0;34m\u001b[0m\u001b[0;34m\u001b[0m\u001b[0m\n\u001b[0;32m-> 1631\u001b[0;31m     \u001b[0;32mraise\u001b[0m \u001b[0mValueError\u001b[0m\u001b[0;34m(\u001b[0m\u001b[0mstr\u001b[0m\u001b[0;34m(\u001b[0m\u001b[0me\u001b[0m\u001b[0;34m)\u001b[0m\u001b[0;34m)\u001b[0m\u001b[0;34m\u001b[0m\u001b[0;34m\u001b[0m\u001b[0m\n\u001b[0m\u001b[1;32m   1632\u001b[0m \u001b[0;34m\u001b[0m\u001b[0m\n\u001b[1;32m   1633\u001b[0m   \u001b[0;32mreturn\u001b[0m \u001b[0mc_op\u001b[0m\u001b[0;34m\u001b[0m\u001b[0;34m\u001b[0m\u001b[0m\n",
            "\u001b[0;31mValueError\u001b[0m: Negative dimension size caused by subtracting 40 from 1 for 'conv1d_13/convolution/Conv2D' (op: 'Conv2D') with input shapes: [?,1,1,551], [1,40,551,100]."
          ]
        }
      ]
    }
  ]
}